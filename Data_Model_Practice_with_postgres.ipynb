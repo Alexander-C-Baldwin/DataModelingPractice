{
 "cells": [
  {
   "cell_type": "markdown",
   "metadata": {},
   "source": [
    "### Creating a Table with PostgreSQL"
   ]
  },
  {
   "cell_type": "code",
   "execution_count": 1,
   "metadata": {},
   "outputs": [
    {
     "name": "stdout",
     "output_type": "stream",
     "text": [
      "Requirement already satisfied: psycopg2 in c:\\users\\17857\\anaconda3\\lib\\site-packages (2.9.3)\n"
     ]
    }
   ],
   "source": [
    "!pip install psycopg2"
   ]
  },
  {
   "cell_type": "markdown",
   "metadata": {},
   "source": [
    "#### Import the library"
   ]
  },
  {
   "cell_type": "code",
   "execution_count": 2,
   "metadata": {},
   "outputs": [],
   "source": [
    "import psycopg2"
   ]
  },
  {
   "cell_type": "markdown",
   "metadata": {},
   "source": [
    "#### Create connection to the database"
   ]
  },
  {
   "cell_type": "code",
   "execution_count": 3,
   "metadata": {},
   "outputs": [],
   "source": [
    "try:\n",
    "    conn = psycopg2.connect(\"host=*** dbname=*** user=*** password=***\")\n",
    "except psycopg2.Error as E:\n",
    "    print(\"Error: Could not make connection to PostgreSQL datbase\")\n",
    "    print(E)"
   ]
  },
  {
   "cell_type": "markdown",
   "metadata": {},
   "source": [
    "#### Use the connection to get a cursor that can be used to execute queries"
   ]
  },
  {
   "cell_type": "code",
   "execution_count": 4,
   "metadata": {},
   "outputs": [],
   "source": [
    "try:\n",
    "    cur = conn.cursor()\n",
    "except psycopg2.Error as E:\n",
    "    print(\"Error: Could not get cursor to the database\")\n",
    "    print(E)\n",
    "    \n",
    "    "
   ]
  },
  {
   "cell_type": "markdown",
   "metadata": {},
   "source": [
    "#### Set Automatic commit to True so that each action is committed without having to call conn.commit() after each command"
   ]
  },
  {
   "cell_type": "code",
   "execution_count": 5,
   "metadata": {},
   "outputs": [],
   "source": [
    "conn.set_session(autocommit=True)"
   ]
  },
  {
   "cell_type": "markdown",
   "metadata": {},
   "source": [
    "### Create Database to work in"
   ]
  },
  {
   "cell_type": "code",
   "execution_count": 7,
   "metadata": {},
   "outputs": [
    {
     "name": "stdout",
     "output_type": "stream",
     "text": [
      "database \"employees\" already exists\n",
      "\n"
     ]
    }
   ],
   "source": [
    "try:\n",
    "    cur.execute(\"create database Employees\")\n",
    "except psycopg2.Error as E:\n",
    "    print(E)\n",
    "    \n"
   ]
  },
  {
   "cell_type": "markdown",
   "metadata": {},
   "source": [
    "#### Add the database name in the connect statement. first close connection to default database, reconnect to created Employees database, and get a new cursor"
   ]
  },
  {
   "cell_type": "code",
   "execution_count": 9,
   "metadata": {},
   "outputs": [],
   "source": [
    "try:\n",
    "    conn.close()\n",
    "except psycopg.Error as E:\n",
    "    print(E)\n",
    "    \n",
    "try:\n",
    "    conn = psycopg2.connect(\"host=*** dbname=employees user=*** password=***\")\n",
    "except psycopg2.Error as E:\n",
    "    print(\"Error: Could not make connection to PostgreSQL datbase\")\n",
    "    print(E)\n",
    "    \n",
    "try:\n",
    "    cur = conn.cursor()\n",
    "except psycopg2.Error as E:\n",
    "    print(\"Error: Could not get cursor to the database\")\n",
    "    print(E)\n",
    "    \n",
    "conn.set_session(autocommit=True)"
   ]
  },
  {
   "cell_type": "markdown",
   "metadata": {},
   "source": [
    "### Create Tables for employees db"
   ]
  },
  {
   "cell_type": "code",
   "execution_count": 15,
   "metadata": {},
   "outputs": [],
   "source": [
    "#Create offices table\n",
    "try:\n",
    "    cur.execute(\"CREATE TABLE offices (office_code int PRIMARY KEY, address varchar (255), city varchar (50), state char (2),\\\n",
    "                zip_code int, phone int);\")\n",
    "except psycopg2.Error as E:\n",
    "                print(\"Error: Issue creating table\")\n",
    "                print(E)\n",
    "    \n",
    "    \n",
    "    \n",
    "    \n",
    "    \n",
    "    \n",
    "    "
   ]
  },
  {
   "cell_type": "code",
   "execution_count": 20,
   "metadata": {},
   "outputs": [
    {
     "name": "stdout",
     "output_type": "stream",
     "text": [
      "Error: Issue creating table\n",
      "relation \"employees\" already exists\n",
      "\n"
     ]
    }
   ],
   "source": [
    "#Create employees table\n",
    "try:\n",
    "    cur.execute(\"CREATE TABLE employees (emp_no int PRIMARY KEY, office_code int, birth_date date, first_name varchar (50),\\\n",
    "                last_name varchar (50), gender char (1), email varchar (255),\\\n",
    "                hire_date date, job_title varchar (50), FOREIGN KEY (office_code) REFERENCES offices (office_code));\")\n",
    "except psycopg2.Error as E:\n",
    "                print(\"Error: Issue creating table\")\n",
    "                print(E)"
   ]
  },
  {
   "cell_type": "code",
   "execution_count": 21,
   "metadata": {},
   "outputs": [],
   "source": [
    "#Create salaries table\n",
    "try:\n",
    "    cur.execute(\"CREATE TABLE salaries (payroll_id int PRIMARY KEY, emp_no int, salary int, from_date date, to_date date,\\\n",
    "                FOREIGN KEY (emp_no) REFERENCES employees (emp_no));\")\n",
    "except psycopg2.Error as E:\n",
    "                print(\"Error: Issue creating table\")\n",
    "                print(E)\n",
    "\n",
    "\n",
    "\n",
    "\n",
    "\n"
   ]
  },
  {
   "cell_type": "code",
   "execution_count": 24,
   "metadata": {},
   "outputs": [],
   "source": [
    "#Create departments table\n",
    "\n",
    "try:\n",
    "    cur.execute(\"CREATE TABLE departments (dept_no int PRIMARY KEY, dept_name varchar);\")\n",
    "except psycopg2.Error as E:\n",
    "                print(\"Error: Issue creating table\")\n",
    "                print(E)"
   ]
  },
  {
   "cell_type": "code",
   "execution_count": 25,
   "metadata": {},
   "outputs": [],
   "source": [
    "#Create department employee table\n",
    "\n",
    "try:\n",
    "    cur.execute(\"CREATE TABLE department_employee (emp_no int, dept_no int, from_date date, to_date date,\\\n",
    "                PRIMARY KEY (emp_no, dept_no), FOREIGN KEY (emp_no) REFERENCES employees (emp_no),\\\n",
    "                FOREIGN KEY (dept_no) REFERENCES departments (dept_no));\")\n",
    "except psycopg2.Error as E:\n",
    "                print(\"Error: Issue creating table\")\n",
    "                print(E)"
   ]
  },
  {
   "cell_type": "code",
   "execution_count": 29,
   "metadata": {},
   "outputs": [],
   "source": [
    "#Create department manager table\n",
    "\n",
    "try:\n",
    "    cur.execute(\"CREATE TABLE department_manager (dept_no int, emp_no int, from_date date, to_date date,\\\n",
    "                PRIMARY KEY (dept_no, emp_no), FOREIGN KEY (dept_no) REFERENCES departments (dept_no),\\\n",
    "                FOREIGN KEY (emp_no) REFERENCES employees (emp_no));\")\n",
    "except psycopg2.Error as E:\n",
    "                print(\"Error: Issue creating table\")\n",
    "                print(E)\n"
   ]
  },
  {
   "cell_type": "markdown",
   "metadata": {},
   "source": [
    "### Insert some data into offices and employees tables"
   ]
  },
  {
   "cell_type": "code",
   "execution_count": 33,
   "metadata": {},
   "outputs": [],
   "source": [
    "#Insert row into offices table\n",
    "\n",
    "try:\n",
    "    cur.execute(\"INSERT INTO offices (office_code, address, city, state, zip_code, phone)\\\n",
    "                VALUES (%s, %s, %s, %s, %s, %s)\", (200, '111 Circus Drive', 'Clownville', 'KS', 64133, 5554444))\n",
    "except psycopg2.Error as E:\n",
    "                print(\"Error: Inserting Rows\")\n",
    "                print(E)\n"
   ]
  },
  {
   "cell_type": "code",
   "execution_count": 34,
   "metadata": {},
   "outputs": [],
   "source": [
    "#Insert row into employees table\n",
    "\n",
    "try:\n",
    "    cur.execute(\"INSERT INTO employees (emp_no, office_code, birth_date, first_name, last_name, gender,\\\n",
    "    email, hire_date, job_title) VALUES (%s, %s, %s, %s, %s, %s, %s, %s, %s)\", \\\n",
    "    (1, 200, '1940-01-11', 'Bozo', 'TheClown', 'M', 'bozoclown@clownmail.com', '2022-05-10', 'Clown'))\n",
    "except psycopg2.Error as E:\n",
    "                print(\"Error: Inserting Rows\")\n",
    "                print(E)    "
   ]
  },
  {
   "cell_type": "markdown",
   "metadata": {},
   "source": [
    "### Validate data inserted into table"
   ]
  },
  {
   "cell_type": "code",
   "execution_count": 35,
   "metadata": {},
   "outputs": [
    {
     "name": "stdout",
     "output_type": "stream",
     "text": [
      "(1, 200, datetime.date(1940, 1, 11), 'Bozo', 'TheClown', 'M', 'bozoclown@clownmail.com', datetime.date(2022, 5, 10), 'Clown')\n"
     ]
    }
   ],
   "source": [
    "try:\n",
    "    cur.execute(\"SELECT * FROM employees;\")\n",
    "except psycopg2.Error as E:\n",
    "                print(\"Error: select *\")\n",
    "                print(E)    \n",
    "\n",
    "row = cur.fetchone()\n",
    "while row:\n",
    "    print(row)\n",
    "    row = cur.fetchone()"
   ]
  },
  {
   "cell_type": "code",
   "execution_count": 36,
   "metadata": {},
   "outputs": [
    {
     "name": "stdout",
     "output_type": "stream",
     "text": [
      "(200, '111 Circus Drive', 'Clownville', 'KS', 64133, 5554444)\n"
     ]
    }
   ],
   "source": [
    "try:\n",
    "    cur.execute(\"SELECT * FROM offices;\")\n",
    "except psycopg2.Error as E:\n",
    "                print(\"Error: select *\")\n",
    "                print(E)    \n",
    "\n",
    "row = cur.fetchone()\n",
    "while row:\n",
    "    print(row)\n",
    "    row = cur.fetchone()"
   ]
  },
  {
   "cell_type": "markdown",
   "metadata": {},
   "source": [
    "### Close Cursor and Connection"
   ]
  },
  {
   "cell_type": "code",
   "execution_count": 37,
   "metadata": {},
   "outputs": [],
   "source": [
    "cur.close()\n",
    "conn.close()"
   ]
  },
  {
   "cell_type": "code",
   "execution_count": null,
   "metadata": {},
   "outputs": [],
   "source": []
  }
 ],
 "metadata": {
  "kernelspec": {
   "display_name": "Python 3",
   "language": "python",
   "name": "python3"
  },
  "language_info": {
   "codemirror_mode": {
    "name": "ipython",
    "version": 3
   },
   "file_extension": ".py",
   "mimetype": "text/x-python",
   "name": "python",
   "nbconvert_exporter": "python",
   "pygments_lexer": "ipython3",
   "version": "3.7.6"
  }
 },
 "nbformat": 4,
 "nbformat_minor": 4
}
